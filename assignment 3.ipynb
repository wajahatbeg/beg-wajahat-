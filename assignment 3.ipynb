{
 "cells": [
  {
   "cell_type": "markdown",
   "id": "247cb32b",
   "metadata": {},
   "source": [
    "# ASSIGNMENT - 3"
   ]
  },
  {
   "cell_type": "markdown",
   "id": "0245fc88",
   "metadata": {},
   "source": [
    "Q1 - Why are functions advantageous to have in your programs?"
   ]
  },
  {
   "cell_type": "markdown",
   "id": "5834fb24",
   "metadata": {},
   "source": [
    "Ans- Because with the help of dunction we can call Python functions anywhere and also call multiple times."
   ]
  },
  {
   "cell_type": "markdown",
   "id": "8db2e0eb",
   "metadata": {},
   "source": [
    "---------------------------------------------------------------------------------------------------------------------"
   ]
  },
  {
   "cell_type": "markdown",
   "id": "ffae28dd",
   "metadata": {},
   "source": [
    "Q2. When does the code in a function run: when its specified or when its called?"
   ]
  },
  {
   "cell_type": "markdown",
   "id": "90de25ea",
   "metadata": {},
   "source": [
    "ANS- Execution always begins at the first statement of the program. Statements are executed one at a time, \n",
    "     in order from top to bottom."
   ]
  },
  {
   "cell_type": "markdown",
   "id": "38e8ce5d",
   "metadata": {},
   "source": [
    "---------------------------------------------------------------------------------------------------------------------"
   ]
  },
  {
   "cell_type": "markdown",
   "id": "972d6c48",
   "metadata": {},
   "source": [
    "Q3- What statement creates a function?"
   ]
  },
  {
   "cell_type": "markdown",
   "id": "b4e52cf6",
   "metadata": {},
   "source": [
    "Ans- In Python, we define a function with the def keyword after that we write the function identifier (name) followed by parentheses and a colon"
   ]
  },
  {
   "cell_type": "markdown",
   "id": "6dcbcfcf",
   "metadata": {},
   "source": [
    "---------------------------------------------------------------------------------------------------------------------"
   ]
  },
  {
   "cell_type": "markdown",
   "id": "d4832406",
   "metadata": {},
   "source": [
    "Q4- What is the difference between a function and a function call?"
   ]
  },
  {
   "cell_type": "markdown",
   "id": "552c14c2",
   "metadata": {},
   "source": [
    "Ans- A function is a block of code that does a particular operation and returns a result. It usually accepts inputs as parameters and returns a result and The parameters are not mandatory."
   ]
  },
  {
   "cell_type": "markdown",
   "id": "2f37a1ce",
   "metadata": {},
   "source": [
    "A function call is the code used to pass control to a function."
   ]
  },
  {
   "cell_type": "markdown",
   "id": "efee6c30",
   "metadata": {},
   "source": [
    "---------------------------------------------------------------------------------------------------------------------"
   ]
  },
  {
   "cell_type": "markdown",
   "id": "7f948f71",
   "metadata": {},
   "source": [
    "Q5-How many global scopes are there in a Python program? How many local scopes?"
   ]
  },
  {
   "cell_type": "markdown",
   "id": "09e01971",
   "metadata": {},
   "source": [
    "Ans-There are only 1 global Python scope and 4 local scope are there in python."
   ]
  },
  {
   "cell_type": "markdown",
   "id": "16c91f59",
   "metadata": {},
   "source": [
    "---------------------------------------------------------------------------------------------------------------------"
   ]
  },
  {
   "cell_type": "markdown",
   "id": "31980565",
   "metadata": {},
   "source": [
    "Q6- What happens to variables in a local scope when the function call returns?"
   ]
  },
  {
   "cell_type": "markdown",
   "id": "13539b03",
   "metadata": {},
   "source": [
    "Ans- Each call of the function creates new local variables, and their lifetimes expire when the function returns to the caller."
   ]
  },
  {
   "cell_type": "markdown",
   "id": "7ce0d5bb",
   "metadata": {},
   "source": [
    "---------------------------------------------------------------------------------------------------------------------"
   ]
  },
  {
   "cell_type": "markdown",
   "id": "1d397e28",
   "metadata": {},
   "source": [
    "Q7- What is the concept of a return value? Is it possible to have a return value in an expression?"
   ]
  },
  {
   "cell_type": "markdown",
   "id": "b87e409a",
   "metadata": {},
   "source": [
    "A return is a value that a function returns to the calling  function when it completes its task\n",
    "\n",
    "If the data type of the expression is different from the function return type, conversion of the return value takes place as if the value of the expression were assigned to an object with the same function return type."
   ]
  },
  {
   "cell_type": "markdown",
   "id": "29d89a09",
   "metadata": {},
   "source": [
    "---------------------------------------------------------------------------------------------------------------------"
   ]
  },
  {
   "cell_type": "markdown",
   "id": "c7881c76",
   "metadata": {},
   "source": [
    "Q8- If a function does not have a return statement, what is the return value of a call to that function?"
   ]
  },
  {
   "cell_type": "markdown",
   "id": "6a32cd8d",
   "metadata": {},
   "source": [
    "Ans- If no return statement appears in a function definition, control automatically returns to the calling function after the last statement of the called function is executed. In this case, the return value of the called function is undefined."
   ]
  },
  {
   "cell_type": "markdown",
   "id": "e3380362",
   "metadata": {},
   "source": [
    "---------------------------------------------------------------------------------------------------------------------"
   ]
  },
  {
   "cell_type": "markdown",
   "id": "f91f3479",
   "metadata": {},
   "source": [
    "Q9- How do you make a function variable refer to the global variable?"
   ]
  },
  {
   "cell_type": "markdown",
   "id": "7140b153",
   "metadata": {},
   "source": [
    "Ans-When you create a variable inside a function, that variable is local, and can only be used inside that function. To create a global variable inside a function, you can use the global keyword."
   ]
  },
  {
   "cell_type": "markdown",
   "id": "ed22d1de",
   "metadata": {},
   "source": [
    "---------------------------------------------------------------------------------------------------------------------"
   ]
  },
  {
   "cell_type": "markdown",
   "id": "6368d0be",
   "metadata": {},
   "source": [
    "Q10- What is the data type of None?"
   ]
  },
  {
   "cell_type": "markdown",
   "id": "c8c7d5a3",
   "metadata": {},
   "source": [
    "Ans-  The data type of None is NoneType."
   ]
  },
  {
   "cell_type": "markdown",
   "id": "f78a9b14",
   "metadata": {},
   "source": [
    "---------------------------------------------------------------------------------------------------------------------"
   ]
  },
  {
   "cell_type": "markdown",
   "id": "18a4fead",
   "metadata": {},
   "source": [
    "Q11- What does the sentence import areallyourpetsnamederic do?"
   ]
  },
  {
   "cell_type": "markdown",
   "id": "408aea6f",
   "metadata": {},
   "source": [
    "Ans- It import statement imports a module named areallyourpetsnamederic."
   ]
  },
  {
   "cell_type": "markdown",
   "id": "54a7731f",
   "metadata": {},
   "source": [
    "---------------------------------------------------------------------------------------------------------------------"
   ]
  },
  {
   "cell_type": "markdown",
   "id": "6e14e4af",
   "metadata": {},
   "source": [
    "Q12- If you had a bacon() feature in a spam module, what would you call it after importing spam?"
   ]
  },
  {
   "cell_type": "markdown",
   "id": "976febc8",
   "metadata": {},
   "source": [
    "Ans- This function can be called with spam.bacon()."
   ]
  },
  {
   "cell_type": "markdown",
   "id": "539b96c1",
   "metadata": {},
   "source": [
    "---------------------------------------------------------------------------------------------------------------------"
   ]
  },
  {
   "cell_type": "markdown",
   "id": "7835b36b",
   "metadata": {},
   "source": [
    "Q13- What can you do to save a programme from crashing if it encounters an error?"
   ]
  },
  {
   "cell_type": "markdown",
   "id": "6a2e9406",
   "metadata": {},
   "source": [
    "Ans- Place the line of code that might cause an error in a try clause"
   ]
  },
  {
   "cell_type": "markdown",
   "id": "6ffe7df1",
   "metadata": {},
   "source": [
    "---------------------------------------------------------------------------------------------------------------------"
   ]
  },
  {
   "cell_type": "markdown",
   "id": "b7f5f5fb",
   "metadata": {},
   "source": [
    "Q14- What is the purpose of the try clause? What is the purpose of the except clause?"
   ]
  },
  {
   "cell_type": "markdown",
   "id": "7fff3bdd",
   "metadata": {},
   "source": [
    "Ans- The code that could potentially cause an error goes in the try clause.\n",
    "      \n",
    "     The code that executes if an error happens goes in the except clause.\n",
    "      "
   ]
  },
  {
   "cell_type": "markdown",
   "id": "1a8c99dc",
   "metadata": {},
   "source": [
    "---------------------------------------------------------------------------------------------------------------------"
   ]
  }
 ],
 "metadata": {
  "kernelspec": {
   "display_name": "Python 3 (ipykernel)",
   "language": "python",
   "name": "python3"
  },
  "language_info": {
   "codemirror_mode": {
    "name": "ipython",
    "version": 3
   },
   "file_extension": ".py",
   "mimetype": "text/x-python",
   "name": "python",
   "nbconvert_exporter": "python",
   "pygments_lexer": "ipython3",
   "version": "3.9.13"
  }
 },
 "nbformat": 4,
 "nbformat_minor": 5
}
