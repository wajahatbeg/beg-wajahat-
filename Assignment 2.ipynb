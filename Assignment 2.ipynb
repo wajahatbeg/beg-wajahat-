{
 "cells": [
  {
   "cell_type": "markdown",
   "id": "a97f34de",
   "metadata": {},
   "source": [
    "## Q1.What are the two values of the Boolean data type? How do you write them?"
   ]
  },
  {
   "cell_type": "markdown",
   "id": "af75d6ca",
   "metadata": {},
   "source": [
    "two values are - True and False"
   ]
  },
  {
   "cell_type": "markdown",
   "id": "1f513e1b",
   "metadata": {},
   "source": [
    "True is 1 \n",
    "False is 0"
   ]
  },
  {
   "cell_type": "code",
   "execution_count": null,
   "id": "272420cf",
   "metadata": {},
   "outputs": [],
   "source": []
  },
  {
   "cell_type": "markdown",
   "id": "d4505ffa",
   "metadata": {},
   "source": [
    "## Q2. What are the three different types of Boolean operators?"
   ]
  },
  {
   "cell_type": "markdown",
   "id": "61da292a",
   "metadata": {},
   "source": [
    "AND OR NOT"
   ]
  },
  {
   "cell_type": "code",
   "execution_count": null,
   "id": "db33ec08",
   "metadata": {},
   "outputs": [],
   "source": []
  },
  {
   "cell_type": "markdown",
   "id": "bf292fbe",
   "metadata": {},
   "source": [
    "## Q3. Make a list of each Boolean operator&#39;s truth tables (i.e. every possible combination of Boolean values for the operator and what it evaluate )."
   ]
  },
  {
   "cell_type": "markdown",
   "id": "617fecbd",
   "metadata": {},
   "source": [
    "a          b         a and b\n",
    "\n",
    "True      True         True\n",
    "False      False       False\n",
    "False     True        False\n",
    "True      False       False\n"
   ]
  },
  {
   "cell_type": "markdown",
   "id": "c0fead7c",
   "metadata": {},
   "source": [
    "a\t       b\ta or b\n",
    "\n",
    "True\tTrue\tTrue\n",
    "False\tFalse\tFalse\n",
    "False\tTrue\tTrue\n",
    "True\tFalse\tTrue\n"
   ]
  },
  {
   "cell_type": "markdown",
   "id": "62b5b633",
   "metadata": {},
   "source": [
    " a\t    not a\n",
    "\n",
    "False\tTrue\n",
    "True\tFalse"
   ]
  },
  {
   "cell_type": "code",
   "execution_count": null,
   "id": "89d859be",
   "metadata": {},
   "outputs": [],
   "source": []
  },
  {
   "cell_type": "markdown",
   "id": "4932d39e",
   "metadata": {},
   "source": [
    "## Q4. What are the values of the following expressions?"
   ]
  },
  {
   "cell_type": "code",
   "execution_count": 3,
   "id": "a6e3bdd6",
   "metadata": {},
   "outputs": [
    {
     "data": {
      "text/plain": [
       "False"
      ]
     },
     "execution_count": 3,
     "metadata": {},
     "output_type": "execute_result"
    }
   ],
   "source": [
    "(5>4) and (3 == 5)"
   ]
  },
  {
   "cell_type": "code",
   "execution_count": 4,
   "id": "c166ca75",
   "metadata": {},
   "outputs": [
    {
     "data": {
      "text/plain": [
       "False"
      ]
     },
     "execution_count": 4,
     "metadata": {},
     "output_type": "execute_result"
    }
   ],
   "source": [
    "not (5> 4)"
   ]
  },
  {
   "cell_type": "code",
   "execution_count": 5,
   "id": "0800ef47",
   "metadata": {},
   "outputs": [
    {
     "data": {
      "text/plain": [
       "True"
      ]
     },
     "execution_count": 5,
     "metadata": {},
     "output_type": "execute_result"
    }
   ],
   "source": [
    "(5 > 4) or (3 == 5)"
   ]
  },
  {
   "cell_type": "code",
   "execution_count": 6,
   "id": "03177c18",
   "metadata": {},
   "outputs": [
    {
     "data": {
      "text/plain": [
       "False"
      ]
     },
     "execution_count": 6,
     "metadata": {},
     "output_type": "execute_result"
    }
   ],
   "source": [
    "not ((5 > 4) or (3 == 5))"
   ]
  },
  {
   "cell_type": "code",
   "execution_count": 7,
   "id": "3c95a618",
   "metadata": {},
   "outputs": [
    {
     "data": {
      "text/plain": [
       "False"
      ]
     },
     "execution_count": 7,
     "metadata": {},
     "output_type": "execute_result"
    }
   ],
   "source": [
    "(True and True) and (True == False)"
   ]
  },
  {
   "cell_type": "code",
   "execution_count": 8,
   "id": "549d7f67",
   "metadata": {},
   "outputs": [
    {
     "data": {
      "text/plain": [
       "True"
      ]
     },
     "execution_count": 8,
     "metadata": {},
     "output_type": "execute_result"
    }
   ],
   "source": [
    "(not False) or (not True)"
   ]
  },
  {
   "cell_type": "code",
   "execution_count": null,
   "id": "122c206f",
   "metadata": {},
   "outputs": [],
   "source": []
  },
  {
   "cell_type": "markdown",
   "id": "82a4764a",
   "metadata": {},
   "source": [
    "## Q5. What are the six comparison operators?"
   ]
  },
  {
   "cell_type": "markdown",
   "id": "f37aec1c",
   "metadata": {},
   "source": [
    "1- less than \n",
    "2- greater than \n",
    "3- less than or equal to \n",
    "4- greater than or equal to \n",
    "5- equal to\n",
    "6- not equal to."
   ]
  },
  {
   "cell_type": "code",
   "execution_count": null,
   "id": "7d5d485f",
   "metadata": {},
   "outputs": [],
   "source": []
  },
  {
   "cell_type": "markdown",
   "id": "e62cacbe",
   "metadata": {},
   "source": [
    "## Q6. How do you tell the difference between the equal to and assignment operators?Describe a condition and when you would use one."
   ]
  },
  {
   "cell_type": "markdown",
   "id": "1141c189",
   "metadata": {},
   "source": [
    "The “=” is an assignment operator used to assign the value on the right to the variable on the left.\n",
    "\n",
    "The '==' is the called equal to operator and is used to check whether the two expressions or values on both sides are equal or not."
   ]
  },
  {
   "cell_type": "code",
   "execution_count": null,
   "id": "5e479773",
   "metadata": {},
   "outputs": [],
   "source": []
  },
  {
   "cell_type": "markdown",
   "id": "f3d2b5f4",
   "metadata": {},
   "source": [
    "# Q7. Identify the three blocks in this code:"
   ]
  },
  {
   "cell_type": "code",
   "execution_count": 12,
   "id": "695b3296",
   "metadata": {},
   "outputs": [
    {
     "name": "stdout",
     "output_type": "stream",
     "text": [
      "spam\n"
     ]
    }
   ],
   "source": [
    "spam=0\n",
    "if spam == 10:\n",
    "    print('eggs')\n",
    "    if spam>5:\n",
    "        print('bacon')\n",
    "    else:\n",
    "        print('ham')\n",
    "    print('spam')\n",
    "print('spam')"
   ]
  },
  {
   "cell_type": "markdown",
   "id": "69c0fdb4",
   "metadata": {},
   "source": [
    "The three blocks are everything inside the if statement and the lines print('bacon') and print('ham').\n",
    "    "
   ]
  },
  {
   "cell_type": "code",
   "execution_count": null,
   "id": "51042298",
   "metadata": {},
   "outputs": [],
   "source": []
  },
  {
   "cell_type": "markdown",
   "id": "4253c10d",
   "metadata": {},
   "source": [
    "## Q 8. Write code that prints Hello if 1 is stored in spam, prints Howdy if 2 is stored in spam, and prints Greetings! if anything else is stored in spam."
   ]
  },
  {
   "cell_type": "code",
   "execution_count": 20,
   "id": "4b85c30d",
   "metadata": {},
   "outputs": [
    {
     "name": "stdout",
     "output_type": "stream",
     "text": [
      "enter number    -   1\n",
      "Hello\n"
     ]
    }
   ],
   "source": [
    "spam=int(input(\"enter number    -   \"))\n",
    "if spam==1:\n",
    "    print(\"Hello\")\n",
    "elif spam==2:\n",
    "    print('Howdy')\n",
    "else:\n",
    "    print(\"Greeting!\")"
   ]
  },
  {
   "cell_type": "code",
   "execution_count": 21,
   "id": "feafb377",
   "metadata": {},
   "outputs": [
    {
     "name": "stdout",
     "output_type": "stream",
     "text": [
      "enter number    2\n",
      "Howdy\n"
     ]
    }
   ],
   "source": [
    "spam=int(input(\"enter number    \"))\n",
    "if spam==1:\n",
    "    print(\"Hello\")\n",
    "elif spam==2:\n",
    "    print('Howdy')\n",
    "else:\n",
    "    print(\"Greeting!\")"
   ]
  },
  {
   "cell_type": "code",
   "execution_count": null,
   "id": "ce775089",
   "metadata": {},
   "outputs": [],
   "source": []
  },
  {
   "cell_type": "code",
   "execution_count": null,
   "id": "64205132",
   "metadata": {},
   "outputs": [],
   "source": []
  }
 ],
 "metadata": {
  "kernelspec": {
   "display_name": "Python 3 (ipykernel)",
   "language": "python",
   "name": "python3"
  },
  "language_info": {
   "codemirror_mode": {
    "name": "ipython",
    "version": 3
   },
   "file_extension": ".py",
   "mimetype": "text/x-python",
   "name": "python",
   "nbconvert_exporter": "python",
   "pygments_lexer": "ipython3",
   "version": "3.9.13"
  }
 },
 "nbformat": 4,
 "nbformat_minor": 5
}
