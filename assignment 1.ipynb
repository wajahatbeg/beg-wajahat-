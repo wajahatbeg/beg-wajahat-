{
 "cells": [
  {
   "cell_type": "markdown",
   "id": "c89780b9",
   "metadata": {},
   "source": [
    "### Q1. In the below elements which of them are values or an expression? eg:- values can be integer or string and expressions will be mathematical operators."
   ]
  },
  {
   "cell_type": "markdown",
   "id": "6c6affe7",
   "metadata": {},
   "source": [
    "(*)  is an expression \n",
    "\n",
    "'hello' is the value\n",
    "\n",
    "-87.8 is value\n",
    "\n",
    "-is an expression \n",
    "\n",
    "/ is an expression \n",
    "\n",
    "+is an expression \n",
    "\n",
    "6 is value"
   ]
  },
  {
   "cell_type": "code",
   "execution_count": null,
   "id": "375df4ad",
   "metadata": {},
   "outputs": [],
   "source": []
  },
  {
   "cell_type": "markdown",
   "id": "31480a12",
   "metadata": {},
   "source": [
    "## Q2. What is the difference between string and variable?"
   ]
  },
  {
   "cell_type": "markdown",
   "id": "4f7e4767",
   "metadata": {},
   "source": [
    "variables are those which have reserved memory location to store the value. variable are three type integer, float and complex.\n",
    "there are 4 type of variable Number, String, List , Tuple\n",
    "\n",
    "whereas \n",
    "\n",
    "string are the sequence or collection of character, alphabet and words\n",
    "For example, \"Mirza Wajahat Beg\""
   ]
  },
  {
   "cell_type": "code",
   "execution_count": null,
   "id": "383a42da",
   "metadata": {},
   "outputs": [],
   "source": []
  },
  {
   "cell_type": "markdown",
   "id": "9151c559",
   "metadata": {},
   "source": [
    "## Q3. Describe three different data types."
   ]
  },
  {
   "cell_type": "markdown",
   "id": "0c944ae8",
   "metadata": {},
   "source": [
    "dict , list , tuple\n",
    "\n",
    "dict-> Dictionary in Python is a collection of keys values, used to store data values {key:value}\n",
    "       \n",
    "      Exampele"
   ]
  },
  {
   "cell_type": "code",
   "execution_count": 15,
   "id": "090e8191",
   "metadata": {},
   "outputs": [],
   "source": [
    "Dict = {1: 'Mohd', 2: 'Wajahat', 3: 'Beg','abc':'cant explain'}"
   ]
  },
  {
   "cell_type": "code",
   "execution_count": 16,
   "id": "575b621e",
   "metadata": {},
   "outputs": [
    {
     "data": {
      "text/plain": [
       "{1: 'Mohd', 2: 'Wajahat', 3: 'Beg', 'abc': 'cant explain'}"
      ]
     },
     "execution_count": 16,
     "metadata": {},
     "output_type": "execute_result"
    }
   ],
   "source": [
    "Dict"
   ]
  },
  {
   "cell_type": "code",
   "execution_count": 18,
   "id": "1c7fa0b9",
   "metadata": {},
   "outputs": [
    {
     "name": "stdout",
     "output_type": "stream",
     "text": [
      "Mohd\n"
     ]
    }
   ],
   "source": [
    "print(Dict[1])"
   ]
  },
  {
   "cell_type": "code",
   "execution_count": 19,
   "id": "395e45e5",
   "metadata": {},
   "outputs": [
    {
     "data": {
      "text/plain": [
       "'cant explain'"
      ]
     },
     "execution_count": 19,
     "metadata": {},
     "output_type": "execute_result"
    }
   ],
   "source": [
    "Dict['abc']"
   ]
  },
  {
   "cell_type": "code",
   "execution_count": null,
   "id": "8a9307e2",
   "metadata": {},
   "outputs": [],
   "source": []
  },
  {
   "cell_type": "markdown",
   "id": "38365c72",
   "metadata": {},
   "source": [
    "List-> Lists are used to store many items in a single variable \n",
    "\n",
    "Examle"
   ]
  },
  {
   "cell_type": "code",
   "execution_count": 5,
   "id": "bc36e7e4",
   "metadata": {},
   "outputs": [],
   "source": [
    "A = [\"My\", \"Name\", \"Khan\"]"
   ]
  },
  {
   "cell_type": "code",
   "execution_count": 6,
   "id": "98e9a42b",
   "metadata": {},
   "outputs": [
    {
     "data": {
      "text/plain": [
       "['My', 'Name', 'Khan']"
      ]
     },
     "execution_count": 6,
     "metadata": {},
     "output_type": "execute_result"
    }
   ],
   "source": [
    "A"
   ]
  },
  {
   "cell_type": "code",
   "execution_count": null,
   "id": "e85d20b1",
   "metadata": {},
   "outputs": [],
   "source": []
  },
  {
   "cell_type": "markdown",
   "id": "3b9b1b06",
   "metadata": {},
   "source": [
    "tuples->  Tuples used to store multiple items in a single variable and it is separated by commas. "
   ]
  },
  {
   "cell_type": "code",
   "execution_count": 7,
   "id": "7246e0a4",
   "metadata": {},
   "outputs": [],
   "source": [
    "tup= (\"I\", \"Am\", \"Good\")"
   ]
  },
  {
   "cell_type": "code",
   "execution_count": 8,
   "id": "495ab672",
   "metadata": {},
   "outputs": [
    {
     "name": "stdout",
     "output_type": "stream",
     "text": [
      "('I', 'Am', 'Good')\n"
     ]
    }
   ],
   "source": [
    "print(tup)"
   ]
  },
  {
   "cell_type": "code",
   "execution_count": null,
   "id": "718d1212",
   "metadata": {},
   "outputs": [],
   "source": []
  },
  {
   "cell_type": "markdown",
   "id": "fe7d59cf",
   "metadata": {},
   "source": [
    "## 4. What is an expression made up of? What do all expressions do?"
   ]
  },
  {
   "cell_type": "markdown",
   "id": "ac66a1c3",
   "metadata": {},
   "source": [
    "A combination of operands and operators is called an expression. The expression in Python produces some value or result after being interpreted by the Python interpreter.\n",
    "\n",
    " there are many type of expressions\n",
    " - Constant Expressions\n",
    " -Arithmetic Expressions\n",
    " -Integral Expressions\n",
    " -Floating Expressions\n",
    " -Relational Expressions\n",
    " -Logical Expressions\n",
    "        etc\n",
    " "
   ]
  },
  {
   "cell_type": "code",
   "execution_count": null,
   "id": "b98f99c8",
   "metadata": {},
   "outputs": [],
   "source": []
  },
  {
   "cell_type": "markdown",
   "id": "32181eb1",
   "metadata": {},
   "source": [
    "## Q5 This assignment statements, like spam = 10. What is the difference between and expression and a statement?"
   ]
  },
  {
   "cell_type": "markdown",
   "id": "94ab5036",
   "metadata": {},
   "source": [
    "An expression is a combination of operators and operands that is interpreted to produce some other value.\n",
    "                 \n",
    "   Example -\n",
    "  A=15+20  ---> 35\n",
    "  \n",
    "   C=50-10  ---> 40\n",
    "            \n",
    "            \n",
    "            \n",
    "\n",
    "A statement is an instruction that the Python interpreter can execute OR Instructions written in the source code for execution are called statements."
   ]
  },
  {
   "cell_type": "code",
   "execution_count": null,
   "id": "731b610d",
   "metadata": {},
   "outputs": [],
   "source": []
  },
  {
   "cell_type": "markdown",
   "id": "991ad18b",
   "metadata": {},
   "source": [
    "## Q 6. After running the following code, what does the variable bacon contain?   Bacon=22  Bacon+1"
   ]
  },
  {
   "cell_type": "markdown",
   "id": "942cd769",
   "metadata": {},
   "source": [
    "Answer---> it contain 23"
   ]
  },
  {
   "cell_type": "code",
   "execution_count": 20,
   "id": "e13155a8",
   "metadata": {},
   "outputs": [],
   "source": [
    "bacon=22"
   ]
  },
  {
   "cell_type": "code",
   "execution_count": 21,
   "id": "cd0cec01",
   "metadata": {},
   "outputs": [
    {
     "data": {
      "text/plain": [
       "23"
      ]
     },
     "execution_count": 21,
     "metadata": {},
     "output_type": "execute_result"
    }
   ],
   "source": [
    "bacon+1"
   ]
  },
  {
   "cell_type": "code",
   "execution_count": null,
   "id": "f7d546d7",
   "metadata": {},
   "outputs": [],
   "source": []
  },
  {
   "cell_type": "markdown",
   "id": "45497cdd",
   "metadata": {},
   "source": [
    "# Q7 What should the values of the following two terms be?\n",
    "spam+spamspam;     \n",
    "\n",
    "   spam* 3"
   ]
  },
  {
   "cell_type": "code",
   "execution_count": 22,
   "id": "67e2f45e",
   "metadata": {},
   "outputs": [
    {
     "data": {
      "text/plain": [
       "'spamspamspam'"
      ]
     },
     "execution_count": 22,
     "metadata": {},
     "output_type": "execute_result"
    }
   ],
   "source": [
    "'spam'+'spamspam'"
   ]
  },
  {
   "cell_type": "code",
   "execution_count": 23,
   "id": "70ec0b96",
   "metadata": {},
   "outputs": [
    {
     "data": {
      "text/plain": [
       "'spamspamspam'"
      ]
     },
     "execution_count": 23,
     "metadata": {},
     "output_type": "execute_result"
    }
   ],
   "source": [
    "'spam'*3"
   ]
  },
  {
   "cell_type": "code",
   "execution_count": null,
   "id": "0acd0048",
   "metadata": {},
   "outputs": [],
   "source": []
  },
  {
   "cell_type": "markdown",
   "id": "7a9eaf34",
   "metadata": {},
   "source": [
    "## Q8. Why is eggs a valid variable name while 100 is invalid?"
   ]
  },
  {
   "cell_type": "markdown",
   "id": "c8ce96af",
   "metadata": {},
   "source": [
    "Because variable name never start with number, it always begins with alphabet "
   ]
  },
  {
   "cell_type": "markdown",
   "id": "5153ae25",
   "metadata": {},
   "source": [
    "## Q9. What three functions can be used to get the integer, floating-point number, or string version of a value?"
   ]
  },
  {
   "cell_type": "markdown",
   "id": "e6d94106",
   "metadata": {},
   "source": [
    " int() , float() , and str( )"
   ]
  },
  {
   "cell_type": "code",
   "execution_count": null,
   "id": "83067e54",
   "metadata": {},
   "outputs": [],
   "source": []
  },
  {
   "cell_type": "markdown",
   "id": "a26da8b0",
   "metadata": {},
   "source": [
    "## Q10. Why does this expression cause an error? How can you fix it? \n",
    "I have eaten  + 99 + burritos."
   ]
  },
  {
   "cell_type": "code",
   "execution_count": 26,
   "id": "504ba472",
   "metadata": {},
   "outputs": [
    {
     "ename": "TypeError",
     "evalue": "can only concatenate str (not \"int\") to str",
     "output_type": "error",
     "traceback": [
      "\u001b[1;31m---------------------------------------------------------------------------\u001b[0m",
      "\u001b[1;31mTypeError\u001b[0m                                 Traceback (most recent call last)",
      "\u001b[1;32m~\\AppData\\Local\\Temp\\ipykernel_14248\\3116421743.py\u001b[0m in \u001b[0;36m<module>\u001b[1;34m\u001b[0m\n\u001b[1;32m----> 1\u001b[1;33m \u001b[1;34m'I have eaten'\u001b[0m \u001b[1;33m+\u001b[0m \u001b[1;36m99\u001b[0m \u001b[1;33m+\u001b[0m \u001b[1;34m'burritos.'\u001b[0m\u001b[1;33m\u001b[0m\u001b[1;33m\u001b[0m\u001b[0m\n\u001b[0m",
      "\u001b[1;31mTypeError\u001b[0m: can only concatenate str (not \"int\") to str"
     ]
    }
   ],
   "source": [
    "'I have eaten' + 99 + 'burritos.'"
   ]
  },
  {
   "cell_type": "markdown",
   "id": "f66e3657",
   "metadata": {},
   "source": [
    "here (99) is integer where as '''I have eaten burritos''' is string type. And addition of string type and integer is impossibe. thatswhy we will convert (99)integer to \"99\" string   "
   ]
  },
  {
   "cell_type": "code",
   "execution_count": 29,
   "id": "d30780a1",
   "metadata": {},
   "outputs": [
    {
     "data": {
      "text/plain": [
       "'I have eaten 99 burritos.'"
      ]
     },
     "execution_count": 29,
     "metadata": {},
     "output_type": "execute_result"
    }
   ],
   "source": [
    "'I have eaten ' + '99' + ' burritos.'"
   ]
  },
  {
   "cell_type": "code",
   "execution_count": null,
   "id": "7a28beaa",
   "metadata": {},
   "outputs": [],
   "source": []
  }
 ],
 "metadata": {
  "kernelspec": {
   "display_name": "Python 3 (ipykernel)",
   "language": "python",
   "name": "python3"
  },
  "language_info": {
   "codemirror_mode": {
    "name": "ipython",
    "version": 3
   },
   "file_extension": ".py",
   "mimetype": "text/x-python",
   "name": "python",
   "nbconvert_exporter": "python",
   "pygments_lexer": "ipython3",
   "version": "3.9.13"
  }
 },
 "nbformat": 4,
 "nbformat_minor": 5
}
